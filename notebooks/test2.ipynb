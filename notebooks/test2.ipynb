{
 "cells": [
  {
   "cell_type": "code",
   "execution_count": 3,
   "metadata": {},
   "outputs": [],
   "source": [
    "from keras.models import load_model\n",
    "import pandas as pd\n",
    "import os\n",
    "import sys\n",
    "sys.path.append('../voicemap/')\n",
    "sys.path.append('../')\n",
    "from config import PATH\n",
    "from voicemap.librispeech import LibriSpeechDataset\n",
    "from voicemap.utils import BatchPreProcessor, preprocess_instances, n_shot_task_evaluation"
   ]
  },
  {
   "cell_type": "code",
   "execution_count": 4,
   "metadata": {},
   "outputs": [],
   "source": [
    "# Mute excessively verbose Tensorflow output\n",
    "os.environ['TF_CPP_MIN_LOG_LEVEL'] = '3'\n",
    "\n",
    "\n",
    "##############\n",
    "# Parameters #\n",
    "##############\n",
    "downsampling = 4\n",
    "n_seconds = 3\n",
    "validation_set = 'dev-clean'\n",
    "siamese_model_path = PATH + '/models/n_seconds/siamese__nseconds_3.0__filters_128__embed_64__drop_0.0__r_0.hdf5'\n",
    "classifier_model_path = PATH + '/models/baseline_classifier.hdf5'\n",
    "k_way = range(2, 21, 1)\n",
    "n_shot = [1, 5]\n",
    "num_tasks = 1000\n",
    "distance = 'dot_product'\n",
    "results_path = PATH + '/logs/k-way_n-shot_accuracy_{}_{}.csv'.format(validation_set, distance)\n"
   ]
  },
  {
   "cell_type": "code",
   "execution_count": 7,
   "metadata": {},
   "outputs": [
    {
     "ename": "SyntaxError",
     "evalue": "invalid syntax (<ipython-input-7-2c59c4803c89>, line 5)",
     "output_type": "error",
     "traceback": [
      "\u001b[0;36m  File \u001b[0;32m\"<ipython-input-7-2c59c4803c89>\"\u001b[0;36m, line \u001b[0;32m5\u001b[0m\n\u001b[0;31m    print(>>f, 'method,n_correct,n_tasks,n_shot,k_way')\u001b[0m\n\u001b[0m           ^\u001b[0m\n\u001b[0;31mSyntaxError\u001b[0m\u001b[0;31m:\u001b[0m invalid syntax\n"
     ]
    }
   ],
   "source": [
    "siamese = load_model(siamese_model_path)\n",
    "classifier = load_model(classifier_model_path)\n",
    "\n",
    "with open(results_path, 'w') as f:\n",
    "    f.write('method,n_correct,n_tasks,n_shot,k_way')"
   ]
  },
  {
   "cell_type": "code",
   "execution_count": null,
   "metadata": {},
   "outputs": [],
   "source": [
    "results = []\n",
    "for k in k_way:\n",
    "    for n in n_shot:\n",
    "        n_correct = n_shot_task_evaluation(siamese, valid, batch_preprocessor, num_tasks, n, k,\n",
    "                                           network_type='siamese', distance=distance)\n",
    "        result = {'method': 'siamese', 'n_correct': n_correct, 'n_tasks': num_tasks, 'n': n, 'k': k}\n",
    "        results.append(result)\n",
    "\n",
    "        # Append to file because I wanna look at intermediate results\n",
    "        with open(results_path, 'a') as f:\n",
    "            print >>f, '{},{},{},{},{}'.format('siamese', n_correct, num_tasks, n, k)\n",
    "\n",
    "        # Append to file because I wanna look at intermediate results\n",
    "        n_correct = n_shot_task_evaluation(classifier, valid, batch_preprocessor, num_tasks, n, k,\n",
    "                                           network_type='classifier', distance=distance)\n",
    "        results.append({'method': 'bottleneck', 'n_correct': n_correct, 'n_tasks': num_tasks, 'n': n, 'k': k})\n",
    "\n",
    "        with open(results_path, 'a') as f:\n",
    "            print >>f, '{},{},{},{},{}'.format('classifier', n_correct, num_tasks, n, k)\n",
    "\n",
    "results = pd.DataFrame(results)\n",
    "results.to_csv(results_path, index=False)"
   ]
  }
 ],
 "metadata": {
  "kernelspec": {
   "display_name": "Python 3",
   "language": "python",
   "name": "python3"
  },
  "language_info": {
   "codemirror_mode": {
    "name": "ipython",
    "version": 3
   },
   "file_extension": ".py",
   "mimetype": "text/x-python",
   "name": "python",
   "nbconvert_exporter": "python",
   "pygments_lexer": "ipython3",
   "version": "3.6.8"
  }
 },
 "nbformat": 4,
 "nbformat_minor": 2
}
